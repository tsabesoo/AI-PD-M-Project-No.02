{
  "cells": [
    {
      "cell_type": "code",
      "execution_count": null,
      "metadata": {
        "colab": {
          "base_uri": "https://localhost:8080/",
          "height": 1000
        },
        "id": "ffcul5QcvbFr",
        "outputId": "4d970d6f-3924-4de1-e13f-2f53a020e479"
      },
      "outputs": [
        {
          "output_type": "stream",
          "name": "stdout",
          "text": [
            "Requirement already satisfied: rasa==3.4.5 in /usr/local/lib/python3.10/dist-packages (3.4.5)\n",
            "Requirement already satisfied: CacheControl<0.13.0,>=0.12.9 in /usr/local/lib/python3.10/dist-packages (from rasa==3.4.5) (0.12.14)\n",
            "Requirement already satisfied: PyJWT[crypto]<3.0.0,>=2.0.0 in /usr/lib/python3/dist-packages (from rasa==3.4.5) (2.3.0)\n",
            "Requirement already satisfied: SQLAlchemy<1.5.0,>=1.4.0 in /usr/local/lib/python3.10/dist-packages (from rasa==3.4.5) (1.4.51)\n",
            "Requirement already satisfied: absl-py<1.4,>=0.9 in /usr/local/lib/python3.10/dist-packages (from rasa==3.4.5) (1.3.0)\n",
            "Requirement already satisfied: aio-pika<9.0.0,>=6.7.1 in /usr/local/lib/python3.10/dist-packages (from rasa==3.4.5) (8.3.0)\n",
            "Requirement already satisfied: aiogram<2.24 in /usr/local/lib/python3.10/dist-packages (from rasa==3.4.5) (2.23.1)\n",
            "Requirement already satisfied: aiohttp!=3.7.4.post0,<3.9,>=3.6 in /usr/local/lib/python3.10/dist-packages (from rasa==3.4.5) (3.8.6)\n",
            "Requirement already satisfied: apscheduler<3.10,>=3.6 in /usr/local/lib/python3.10/dist-packages (from rasa==3.4.5) (3.9.1.post1)\n",
            "Requirement already satisfied: attrs<22.2,>=19.3 in /usr/local/lib/python3.10/dist-packages (from rasa==3.4.5) (22.1.0)\n",
            "Requirement already satisfied: boto3<2.0,>=1.12 in /usr/local/lib/python3.10/dist-packages (from rasa==3.4.5) (1.34.18)\n",
            "Requirement already satisfied: cloudpickle<2.3,>=1.2 in /usr/local/lib/python3.10/dist-packages (from rasa==3.4.5) (2.2.1)\n",
            "Requirement already satisfied: colorclass<2.3,>=2.2 in /usr/local/lib/python3.10/dist-packages (from rasa==3.4.5) (2.2.2)\n",
            "Requirement already satisfied: coloredlogs<16,>=10 in /usr/local/lib/python3.10/dist-packages (from rasa==3.4.5) (15.0.1)\n",
            "Requirement already satisfied: colorhash<1.3.0,>=1.0.2 in /usr/local/lib/python3.10/dist-packages (from rasa==3.4.5) (1.2.1)\n",
            "Requirement already satisfied: confluent-kafka<2.0.0,>=1.9.2 in /usr/local/lib/python3.10/dist-packages (from rasa==3.4.5) (1.9.2)\n",
            "Requirement already satisfied: dask==2022.10.2 in /usr/local/lib/python3.10/dist-packages (from rasa==3.4.5) (2022.10.2)\n",
            "Requirement already satisfied: fbmessenger<6.1.0,>=6.0.0 in /usr/local/lib/python3.10/dist-packages (from rasa==3.4.5) (6.0.0)\n",
            "Requirement already satisfied: google-auth<3 in /usr/local/lib/python3.10/dist-packages (from rasa==3.4.5) (2.17.3)\n",
            "Requirement already satisfied: joblib<1.3.0,>=0.15.1 in /usr/local/lib/python3.10/dist-packages (from rasa==3.4.5) (1.2.0)\n",
            "Requirement already satisfied: jsonpickle<2.3,>=1.3 in /usr/local/lib/python3.10/dist-packages (from rasa==3.4.5) (2.2.0)\n",
            "Requirement already satisfied: jsonschema<4.17,>=3.2 in /usr/local/lib/python3.10/dist-packages (from rasa==3.4.5) (4.16.0)\n",
            "Requirement already satisfied: matplotlib<3.6,>=3.1 in /usr/local/lib/python3.10/dist-packages (from rasa==3.4.5) (3.5.3)\n",
            "Requirement already satisfied: mattermostwrapper<2.3,>=2.2 in /usr/local/lib/python3.10/dist-packages (from rasa==3.4.5) (2.2)\n",
            "Requirement already satisfied: networkx<2.7,>=2.4 in /usr/local/lib/python3.10/dist-packages (from rasa==3.4.5) (2.6.3)\n",
            "Requirement already satisfied: numpy<1.24.0,>=1.19.2 in /usr/local/lib/python3.10/dist-packages (from rasa==3.4.5) (1.23.5)\n",
            "Requirement already satisfied: packaging<21.0,>=20.0 in /usr/local/lib/python3.10/dist-packages (from rasa==3.4.5) (20.9)\n",
            "Requirement already satisfied: pluggy<2.0.0,>=1.0.0 in /usr/local/lib/python3.10/dist-packages (from rasa==3.4.5) (1.3.0)\n",
            "Collecting prompt-toolkit<3.0.29,>=3.0 (from rasa==3.4.5)\n",
            "  Using cached prompt_toolkit-3.0.28-py3-none-any.whl (380 kB)\n",
            "Requirement already satisfied: protobuf<3.20,>=3.9.2 in /usr/local/lib/python3.10/dist-packages (from rasa==3.4.5) (3.19.6)\n",
            "Requirement already satisfied: psycopg2-binary<2.10.0,>=2.8.2 in /usr/local/lib/python3.10/dist-packages (from rasa==3.4.5) (2.9.9)\n",
            "Requirement already satisfied: pydantic<1.10.3 in /usr/local/lib/python3.10/dist-packages (from rasa==3.4.5) (1.10.2)\n",
            "Requirement already satisfied: pydot<1.5,>=1.4 in /usr/local/lib/python3.10/dist-packages (from rasa==3.4.5) (1.4.2)\n",
            "Requirement already satisfied: pykwalify<1.9,>=1.7 in /usr/local/lib/python3.10/dist-packages (from rasa==3.4.5) (1.8.0)\n",
            "Requirement already satisfied: pymongo[srv,tls]<3.11,>=3.8 in /usr/local/lib/python3.10/dist-packages (from rasa==3.4.5) (3.10.1)\n",
            "Requirement already satisfied: python-dateutil<2.9,>=2.8 in /usr/local/lib/python3.10/dist-packages (from rasa==3.4.5) (2.8.2)\n",
            "Requirement already satisfied: python-engineio!=5.0.0,<6,>=4 in /usr/local/lib/python3.10/dist-packages (from rasa==3.4.5) (4.8.2)\n",
            "Requirement already satisfied: python-socketio<6,>=4.4 in /usr/local/lib/python3.10/dist-packages (from rasa==3.4.5) (5.11.0)\n",
            "Requirement already satisfied: pytz<2023.0,>=2019.1 in /usr/local/lib/python3.10/dist-packages (from rasa==3.4.5) (2022.7.1)\n",
            "Requirement already satisfied: questionary<1.11.0,>=1.5.1 in /usr/local/lib/python3.10/dist-packages (from rasa==3.4.5) (1.10.0)\n",
            "Requirement already satisfied: randomname<0.2.0,>=0.1.5 in /usr/local/lib/python3.10/dist-packages (from rasa==3.4.5) (0.1.5)\n",
            "Requirement already satisfied: rasa-sdk<3.5.0,>=3.4.1 in /usr/local/lib/python3.10/dist-packages (from rasa==3.4.5) (3.4.1)\n",
            "Requirement already satisfied: redis<5.0,>=3.4 in /usr/local/lib/python3.10/dist-packages (from rasa==3.4.5) (4.6.0)\n",
            "Requirement already satisfied: regex<2022.11,>=2020.6 in /usr/local/lib/python3.10/dist-packages (from rasa==3.4.5) (2022.10.31)\n",
            "Requirement already satisfied: requests<3.0,>=2.23 in /usr/local/lib/python3.10/dist-packages (from rasa==3.4.5) (2.31.0)\n",
            "Requirement already satisfied: rocketchat_API<1.29.0,>=0.6.31 in /usr/local/lib/python3.10/dist-packages (from rasa==3.4.5) (1.28.1)\n",
            "Requirement already satisfied: ruamel.yaml<0.18.0,>=0.16.5 in /usr/local/lib/python3.10/dist-packages (from rasa==3.4.5) (0.17.40)\n",
            "Requirement already satisfied: sanic<21.13,>=21.12 in /usr/local/lib/python3.10/dist-packages (from rasa==3.4.5) (21.12.2)\n",
            "Requirement already satisfied: sanic-cors<2.1.0,>=2.0.0 in /usr/local/lib/python3.10/dist-packages (from rasa==3.4.5) (2.0.1)\n",
            "Requirement already satisfied: sanic-jwt<2.0.0,>=1.6.0 in /usr/local/lib/python3.10/dist-packages (from rasa==3.4.5) (1.8.0)\n",
            "Requirement already satisfied: sanic-routing<0.8.0,>=0.7.2 in /usr/local/lib/python3.10/dist-packages (from rasa==3.4.5) (0.7.2)\n",
            "Requirement already satisfied: scikit-learn<1.2,>=0.22 in /usr/local/lib/python3.10/dist-packages (from rasa==3.4.5) (1.1.3)\n",
            "Requirement already satisfied: scipy<1.9.0,>=1.4.1 in /usr/local/lib/python3.10/dist-packages (from rasa==3.4.5) (1.8.1)\n",
            "Requirement already satisfied: sentry-sdk<1.12.0,>=0.17.0 in /usr/local/lib/python3.10/dist-packages (from rasa==3.4.5) (1.11.1)\n",
            "Requirement already satisfied: setuptools>=41.0.0 in /usr/local/lib/python3.10/dist-packages (from rasa==3.4.5) (67.7.2)\n",
            "Requirement already satisfied: sklearn-crfsuite<0.4,>=0.3 in /usr/local/lib/python3.10/dist-packages (from rasa==3.4.5) (0.3.6)\n",
            "Requirement already satisfied: slack-sdk<4.0.0,>=3.19.2 in /usr/local/lib/python3.10/dist-packages (from rasa==3.4.5) (3.26.2)\n",
            "Requirement already satisfied: tarsafe<0.0.4,>=0.0.3 in /usr/local/lib/python3.10/dist-packages (from rasa==3.4.5) (0.0.3)\n",
            "Requirement already satisfied: tensorflow<2.9.0,>=2.8.4 in /usr/local/lib/python3.10/dist-packages (from rasa==3.4.5) (2.8.4)\n",
            "Requirement already satisfied: tensorflow-addons<0.18.0,>=0.17.0 in /usr/local/lib/python3.10/dist-packages (from rasa==3.4.5) (0.17.1)\n",
            "Requirement already satisfied: tensorflow-text<2.9.0,>=2.8.0 in /usr/local/lib/python3.10/dist-packages (from rasa==3.4.5) (2.8.2)\n",
            "Requirement already satisfied: tensorflow_hub<0.13.0,>=0.12.0 in /usr/local/lib/python3.10/dist-packages (from rasa==3.4.5) (0.12.0)\n",
            "Requirement already satisfied: terminaltables<3.2.0,>=3.1.0 in /usr/local/lib/python3.10/dist-packages (from rasa==3.4.5) (3.1.10)\n",
            "Requirement already satisfied: tqdm<5.0,>=4.31 in /usr/local/lib/python3.10/dist-packages (from rasa==3.4.5) (4.66.1)\n",
            "Requirement already satisfied: twilio<7.15,>=6.26 in /usr/local/lib/python3.10/dist-packages (from rasa==3.4.5) (7.14.2)\n",
            "Requirement already satisfied: typing-extensions<5.0.0,>=4.1.1 in /usr/local/lib/python3.10/dist-packages (from rasa==3.4.5) (4.9.0)\n",
            "Requirement already satisfied: typing-utils<0.2.0,>=0.1.0 in /usr/local/lib/python3.10/dist-packages (from rasa==3.4.5) (0.1.0)\n",
            "Requirement already satisfied: ujson<6.0,>=1.35 in /usr/local/lib/python3.10/dist-packages (from rasa==3.4.5) (5.9.0)\n",
            "Requirement already satisfied: webexteamssdk<1.7.0,>=1.1.1 in /usr/local/lib/python3.10/dist-packages (from rasa==3.4.5) (1.6.1)\n",
            "Requirement already satisfied: click>=7.0 in /usr/local/lib/python3.10/dist-packages (from dask==2022.10.2->rasa==3.4.5) (8.1.7)\n",
            "Requirement already satisfied: fsspec>=0.6.0 in /usr/local/lib/python3.10/dist-packages (from dask==2022.10.2->rasa==3.4.5) (2023.6.0)\n",
            "Requirement already satisfied: partd>=0.3.10 in /usr/local/lib/python3.10/dist-packages (from dask==2022.10.2->rasa==3.4.5) (1.4.1)\n",
            "Requirement already satisfied: pyyaml>=5.3.1 in /usr/local/lib/python3.10/dist-packages (from dask==2022.10.2->rasa==3.4.5) (6.0.1)\n",
            "Requirement already satisfied: toolz>=0.8.2 in /usr/local/lib/python3.10/dist-packages (from dask==2022.10.2->rasa==3.4.5) (0.12.0)\n",
            "Requirement already satisfied: aiormq~=6.6.3 in /usr/local/lib/python3.10/dist-packages (from aio-pika<9.0.0,>=6.7.1->rasa==3.4.5) (6.6.4)\n",
            "Requirement already satisfied: yarl in /usr/local/lib/python3.10/dist-packages (from aio-pika<9.0.0,>=6.7.1->rasa==3.4.5) (1.9.4)\n",
            "Requirement already satisfied: Babel<2.10.0,>=2.9.1 in /usr/local/lib/python3.10/dist-packages (from aiogram<2.24->rasa==3.4.5) (2.9.1)\n",
            "Requirement already satisfied: certifi>=2021.10.8 in /usr/local/lib/python3.10/dist-packages (from aiogram<2.24->rasa==3.4.5) (2023.11.17)\n",
            "Requirement already satisfied: magic-filter>=1.0.9 in /usr/local/lib/python3.10/dist-packages (from aiogram<2.24->rasa==3.4.5) (1.0.12)\n",
            "Requirement already satisfied: charset-normalizer<4.0,>=2.0 in /usr/local/lib/python3.10/dist-packages (from aiohttp!=3.7.4.post0,<3.9,>=3.6->rasa==3.4.5) (3.3.2)\n",
            "Requirement already satisfied: multidict<7.0,>=4.5 in /usr/local/lib/python3.10/dist-packages (from aiohttp!=3.7.4.post0,<3.9,>=3.6->rasa==3.4.5) (5.2.0)\n",
            "Requirement already satisfied: async-timeout<5.0,>=4.0.0a3 in /usr/local/lib/python3.10/dist-packages (from aiohttp!=3.7.4.post0,<3.9,>=3.6->rasa==3.4.5) (4.0.3)\n",
            "Requirement already satisfied: frozenlist>=1.1.1 in /usr/local/lib/python3.10/dist-packages (from aiohttp!=3.7.4.post0,<3.9,>=3.6->rasa==3.4.5) (1.4.1)\n",
            "Requirement already satisfied: aiosignal>=1.1.2 in /usr/local/lib/python3.10/dist-packages (from aiohttp!=3.7.4.post0,<3.9,>=3.6->rasa==3.4.5) (1.3.1)\n",
            "Requirement already satisfied: six>=1.4.0 in /usr/local/lib/python3.10/dist-packages (from apscheduler<3.10,>=3.6->rasa==3.4.5) (1.16.0)\n",
            "Requirement already satisfied: tzlocal!=3.*,>=2.0 in /usr/local/lib/python3.10/dist-packages (from apscheduler<3.10,>=3.6->rasa==3.4.5) (5.2)\n",
            "Requirement already satisfied: botocore<1.35.0,>=1.34.18 in /usr/local/lib/python3.10/dist-packages (from boto3<2.0,>=1.12->rasa==3.4.5) (1.34.18)\n",
            "Requirement already satisfied: jmespath<2.0.0,>=0.7.1 in /usr/local/lib/python3.10/dist-packages (from boto3<2.0,>=1.12->rasa==3.4.5) (1.0.1)\n",
            "Requirement already satisfied: s3transfer<0.11.0,>=0.10.0 in /usr/local/lib/python3.10/dist-packages (from boto3<2.0,>=1.12->rasa==3.4.5) (0.10.0)\n",
            "Requirement already satisfied: msgpack>=0.5.2 in /usr/local/lib/python3.10/dist-packages (from CacheControl<0.13.0,>=0.12.9->rasa==3.4.5) (1.0.7)\n",
            "Requirement already satisfied: humanfriendly>=9.1 in /usr/local/lib/python3.10/dist-packages (from coloredlogs<16,>=10->rasa==3.4.5) (10.0)\n",
            "Requirement already satisfied: cachetools<6.0,>=2.0.0 in /usr/local/lib/python3.10/dist-packages (from google-auth<3->rasa==3.4.5) (5.3.2)\n",
            "Requirement already satisfied: pyasn1-modules>=0.2.1 in /usr/local/lib/python3.10/dist-packages (from google-auth<3->rasa==3.4.5) (0.3.0)\n",
            "Requirement already satisfied: rsa<5,>=3.1.4 in /usr/local/lib/python3.10/dist-packages (from google-auth<3->rasa==3.4.5) (4.9)\n",
            "Requirement already satisfied: pyrsistent!=0.17.0,!=0.17.1,!=0.17.2,>=0.14.0 in /usr/local/lib/python3.10/dist-packages (from jsonschema<4.17,>=3.2->rasa==3.4.5) (0.20.0)\n",
            "Requirement already satisfied: cycler>=0.10 in /usr/local/lib/python3.10/dist-packages (from matplotlib<3.6,>=3.1->rasa==3.4.5) (0.12.1)\n",
            "Requirement already satisfied: fonttools>=4.22.0 in /usr/local/lib/python3.10/dist-packages (from matplotlib<3.6,>=3.1->rasa==3.4.5) (4.47.0)\n",
            "Requirement already satisfied: kiwisolver>=1.0.1 in /usr/local/lib/python3.10/dist-packages (from matplotlib<3.6,>=3.1->rasa==3.4.5) (1.4.5)\n",
            "Requirement already satisfied: pillow>=6.2.0 in /usr/local/lib/python3.10/dist-packages (from matplotlib<3.6,>=3.1->rasa==3.4.5) (9.4.0)\n",
            "Requirement already satisfied: pyparsing>=2.2.1 in /usr/local/lib/python3.10/dist-packages (from matplotlib<3.6,>=3.1->rasa==3.4.5) (3.1.1)\n",
            "Requirement already satisfied: wcwidth in /usr/local/lib/python3.10/dist-packages (from prompt-toolkit<3.0.29,>=3.0->rasa==3.4.5) (0.2.12)\n",
            "Requirement already satisfied: cryptography>=3.3.1 in /usr/local/lib/python3.10/dist-packages (from PyJWT[crypto]<3.0.0,>=2.0.0->rasa==3.4.5) (41.0.7)\n",
            "Requirement already satisfied: docopt>=0.6.2 in /usr/local/lib/python3.10/dist-packages (from pykwalify<1.9,>=1.7->rasa==3.4.5) (0.6.2)\n",
            "Requirement already satisfied: dnspython<2.0.0,>=1.16.0 in /usr/local/lib/python3.10/dist-packages (from pymongo[srv,tls]<3.11,>=3.8->rasa==3.4.5) (1.16.0)\n",
            "Requirement already satisfied: simple-websocket>=0.10.0 in /usr/local/lib/python3.10/dist-packages (from python-engineio!=5.0.0,<6,>=4->rasa==3.4.5) (1.0.0)\n",
            "Requirement already satisfied: bidict>=0.21.0 in /usr/local/lib/python3.10/dist-packages (from python-socketio<6,>=4.4->rasa==3.4.5) (0.22.1)\n",
            "Requirement already satisfied: fire in /usr/local/lib/python3.10/dist-packages (from randomname<0.2.0,>=0.1.5->rasa==3.4.5) (0.5.0)\n",
            "Requirement already satisfied: idna<4,>=2.5 in /usr/local/lib/python3.10/dist-packages (from requests<3.0,>=2.23->rasa==3.4.5) (3.6)\n",
            "Requirement already satisfied: urllib3<3,>=1.21.1 in /usr/local/lib/python3.10/dist-packages (from requests<3.0,>=2.23->rasa==3.4.5) (2.0.7)\n",
            "Requirement already satisfied: ruamel.yaml.clib>=0.2.7 in /usr/local/lib/python3.10/dist-packages (from ruamel.yaml<0.18.0,>=0.16.5->rasa==3.4.5) (0.2.8)\n",
            "Requirement already satisfied: httptools>=0.0.10 in /usr/local/lib/python3.10/dist-packages (from sanic<21.13,>=21.12->rasa==3.4.5) (0.6.1)\n",
            "Requirement already satisfied: aiofiles>=0.6.0 in /usr/local/lib/python3.10/dist-packages (from sanic<21.13,>=21.12->rasa==3.4.5) (23.2.1)\n",
            "Requirement already satisfied: websockets>=10.0 in /usr/local/lib/python3.10/dist-packages (from sanic<21.13,>=21.12->rasa==3.4.5) (10.0)\n",
            "Requirement already satisfied: uvloop>=0.5.3 in /usr/local/lib/python3.10/dist-packages (from sanic<21.13,>=21.12->rasa==3.4.5) (0.19.0)\n",
            "Requirement already satisfied: threadpoolctl>=2.0.0 in /usr/local/lib/python3.10/dist-packages (from scikit-learn<1.2,>=0.22->rasa==3.4.5) (3.2.0)\n",
            "Requirement already satisfied: python-crfsuite>=0.8.3 in /usr/local/lib/python3.10/dist-packages (from sklearn-crfsuite<0.4,>=0.3->rasa==3.4.5) (0.9.10)\n",
            "Requirement already satisfied: tabulate in /usr/local/lib/python3.10/dist-packages (from sklearn-crfsuite<0.4,>=0.3->rasa==3.4.5) (0.9.0)\n",
            "Requirement already satisfied: greenlet!=0.4.17 in /usr/local/lib/python3.10/dist-packages (from SQLAlchemy<1.5.0,>=1.4.0->rasa==3.4.5) (3.0.3)\n",
            "Requirement already satisfied: astunparse>=1.6.0 in /usr/local/lib/python3.10/dist-packages (from tensorflow<2.9.0,>=2.8.4->rasa==3.4.5) (1.6.3)\n",
            "Requirement already satisfied: flatbuffers>=1.12 in /usr/local/lib/python3.10/dist-packages (from tensorflow<2.9.0,>=2.8.4->rasa==3.4.5) (23.5.26)\n",
            "Requirement already satisfied: gast>=0.2.1 in /usr/local/lib/python3.10/dist-packages (from tensorflow<2.9.0,>=2.8.4->rasa==3.4.5) (0.5.4)\n",
            "Requirement already satisfied: google-pasta>=0.1.1 in /usr/local/lib/python3.10/dist-packages (from tensorflow<2.9.0,>=2.8.4->rasa==3.4.5) (0.2.0)\n",
            "Requirement already satisfied: h5py>=2.9.0 in /usr/local/lib/python3.10/dist-packages (from tensorflow<2.9.0,>=2.8.4->rasa==3.4.5) (3.9.0)\n",
            "Requirement already satisfied: keras-preprocessing>=1.1.1 in /usr/local/lib/python3.10/dist-packages (from tensorflow<2.9.0,>=2.8.4->rasa==3.4.5) (1.1.2)\n",
            "Requirement already satisfied: libclang>=9.0.1 in /usr/local/lib/python3.10/dist-packages (from tensorflow<2.9.0,>=2.8.4->rasa==3.4.5) (16.0.6)\n",
            "Requirement already satisfied: opt-einsum>=2.3.2 in /usr/local/lib/python3.10/dist-packages (from tensorflow<2.9.0,>=2.8.4->rasa==3.4.5) (3.3.0)\n",
            "Requirement already satisfied: termcolor>=1.1.0 in /usr/local/lib/python3.10/dist-packages (from tensorflow<2.9.0,>=2.8.4->rasa==3.4.5) (2.4.0)\n",
            "Requirement already satisfied: wrapt>=1.11.0 in /usr/local/lib/python3.10/dist-packages (from tensorflow<2.9.0,>=2.8.4->rasa==3.4.5) (1.14.1)\n",
            "Requirement already satisfied: tensorboard<2.9,>=2.8 in /usr/local/lib/python3.10/dist-packages (from tensorflow<2.9.0,>=2.8.4->rasa==3.4.5) (2.8.0)\n",
            "Requirement already satisfied: tensorflow-estimator<2.9,>=2.8 in /usr/local/lib/python3.10/dist-packages (from tensorflow<2.9.0,>=2.8.4->rasa==3.4.5) (2.8.0)\n",
            "Requirement already satisfied: keras<2.9,>=2.8.0rc0 in /usr/local/lib/python3.10/dist-packages (from tensorflow<2.9.0,>=2.8.4->rasa==3.4.5) (2.8.0)\n",
            "Requirement already satisfied: tensorflow-io-gcs-filesystem>=0.23.1 in /usr/local/lib/python3.10/dist-packages (from tensorflow<2.9.0,>=2.8.4->rasa==3.4.5) (0.35.0)\n",
            "Requirement already satisfied: grpcio<2.0,>=1.24.3 in /usr/local/lib/python3.10/dist-packages (from tensorflow<2.9.0,>=2.8.4->rasa==3.4.5) (1.60.0)\n",
            "Requirement already satisfied: typeguard>=2.7 in /usr/local/lib/python3.10/dist-packages (from tensorflow-addons<0.18.0,>=0.17.0->rasa==3.4.5) (4.1.5)\n",
            "Requirement already satisfied: future in /usr/local/lib/python3.10/dist-packages (from webexteamssdk<1.7.0,>=1.1.1->rasa==3.4.5) (0.18.3)\n",
            "Requirement already satisfied: requests-toolbelt in /usr/local/lib/python3.10/dist-packages (from webexteamssdk<1.7.0,>=1.1.1->rasa==3.4.5) (1.0.0)\n",
            "Requirement already satisfied: pamqp==3.2.1 in /usr/local/lib/python3.10/dist-packages (from aiormq~=6.6.3->aio-pika<9.0.0,>=6.7.1->rasa==3.4.5) (3.2.1)\n",
            "Requirement already satisfied: wheel<1.0,>=0.23.0 in /usr/local/lib/python3.10/dist-packages (from astunparse>=1.6.0->tensorflow<2.9.0,>=2.8.4->rasa==3.4.5) (0.42.0)\n",
            "Requirement already satisfied: cffi>=1.12 in /usr/local/lib/python3.10/dist-packages (from cryptography>=3.3.1->PyJWT[crypto]<3.0.0,>=2.0.0->rasa==3.4.5) (1.16.0)\n",
            "Requirement already satisfied: locket in /usr/local/lib/python3.10/dist-packages (from partd>=0.3.10->dask==2022.10.2->rasa==3.4.5) (1.0.0)\n",
            "Requirement already satisfied: pyasn1<0.6.0,>=0.4.6 in /usr/local/lib/python3.10/dist-packages (from pyasn1-modules>=0.2.1->google-auth<3->rasa==3.4.5) (0.5.1)\n",
            "Requirement already satisfied: wsproto in /usr/local/lib/python3.10/dist-packages (from simple-websocket>=0.10.0->python-engineio!=5.0.0,<6,>=4->rasa==3.4.5) (1.2.0)\n",
            "Requirement already satisfied: google-auth-oauthlib<0.5,>=0.4.1 in /usr/local/lib/python3.10/dist-packages (from tensorboard<2.9,>=2.8->tensorflow<2.9.0,>=2.8.4->rasa==3.4.5) (0.4.6)\n",
            "Requirement already satisfied: markdown>=2.6.8 in /usr/local/lib/python3.10/dist-packages (from tensorboard<2.9,>=2.8->tensorflow<2.9.0,>=2.8.4->rasa==3.4.5) (3.5.1)\n",
            "Requirement already satisfied: tensorboard-data-server<0.7.0,>=0.6.0 in /usr/local/lib/python3.10/dist-packages (from tensorboard<2.9,>=2.8->tensorflow<2.9.0,>=2.8.4->rasa==3.4.5) (0.6.1)\n",
            "Requirement already satisfied: tensorboard-plugin-wit>=1.6.0 in /usr/local/lib/python3.10/dist-packages (from tensorboard<2.9,>=2.8->tensorflow<2.9.0,>=2.8.4->rasa==3.4.5) (1.8.1)\n",
            "Requirement already satisfied: werkzeug>=0.11.15 in /usr/local/lib/python3.10/dist-packages (from tensorboard<2.9,>=2.8->tensorflow<2.9.0,>=2.8.4->rasa==3.4.5) (3.0.1)\n",
            "Requirement already satisfied: pycparser in /usr/local/lib/python3.10/dist-packages (from cffi>=1.12->cryptography>=3.3.1->PyJWT[crypto]<3.0.0,>=2.0.0->rasa==3.4.5) (2.21)\n",
            "Requirement already satisfied: requests-oauthlib>=0.7.0 in /usr/local/lib/python3.10/dist-packages (from google-auth-oauthlib<0.5,>=0.4.1->tensorboard<2.9,>=2.8->tensorflow<2.9.0,>=2.8.4->rasa==3.4.5) (1.3.1)\n",
            "Requirement already satisfied: MarkupSafe>=2.1.1 in /usr/local/lib/python3.10/dist-packages (from werkzeug>=0.11.15->tensorboard<2.9,>=2.8->tensorflow<2.9.0,>=2.8.4->rasa==3.4.5) (2.1.3)\n",
            "Requirement already satisfied: h11<1,>=0.9.0 in /usr/local/lib/python3.10/dist-packages (from wsproto->simple-websocket>=0.10.0->python-engineio!=5.0.0,<6,>=4->rasa==3.4.5) (0.14.0)\n",
            "Requirement already satisfied: oauthlib>=3.0.0 in /usr/local/lib/python3.10/dist-packages (from requests-oauthlib>=0.7.0->google-auth-oauthlib<0.5,>=0.4.1->tensorboard<2.9,>=2.8->tensorflow<2.9.0,>=2.8.4->rasa==3.4.5) (3.2.2)\n",
            "Installing collected packages: prompt-toolkit\n",
            "  Attempting uninstall: prompt-toolkit\n",
            "    Found existing installation: prompt-toolkit 3.0.43\n",
            "    Uninstalling prompt-toolkit-3.0.43:\n",
            "      Successfully uninstalled prompt-toolkit-3.0.43\n",
            "\u001b[31mERROR: pip's dependency resolver does not currently take into account all the packages that are installed. This behaviour is the source of the following dependency conflicts.\n",
            "ipython 8.20.0 requires prompt-toolkit<3.1.0,>=3.0.41, but you have prompt-toolkit 3.0.28 which is incompatible.\n",
            "ipython-sql 0.5.0 requires sqlalchemy>=2.0, but you have sqlalchemy 1.4.51 which is incompatible.\u001b[0m\u001b[31m\n",
            "\u001b[0mSuccessfully installed prompt-toolkit-3.0.28\n"
          ]
        },
        {
          "output_type": "display_data",
          "data": {
            "application/vnd.colab-display-data+json": {
              "pip_warning": {
                "packages": [
                  "prompt_toolkit"
                ]
              }
            }
          },
          "metadata": {}
        }
      ],
      "source": [
        "!pip install rasa==3.4.5"
      ]
    },
    {
      "cell_type": "code",
      "execution_count": null,
      "metadata": {
        "colab": {
          "base_uri": "https://localhost:8080/",
          "height": 662
        },
        "id": "Vu4CYtxz_-oG",
        "outputId": "e40ce1a1-4b62-459e-ffe4-d4f2a8d0c3e4"
      },
      "outputs": [
        {
          "output_type": "stream",
          "name": "stdout",
          "text": [
            "Requirement already satisfied: ipython in /usr/local/lib/python3.10/dist-packages (8.20.0)\n",
            "Requirement already satisfied: decorator in /usr/local/lib/python3.10/dist-packages (from ipython) (4.4.2)\n",
            "Requirement already satisfied: jedi>=0.16 in /usr/local/lib/python3.10/dist-packages (from ipython) (0.19.1)\n",
            "Requirement already satisfied: matplotlib-inline in /usr/local/lib/python3.10/dist-packages (from ipython) (0.1.6)\n",
            "Collecting prompt-toolkit<3.1.0,>=3.0.41 (from ipython)\n",
            "  Using cached prompt_toolkit-3.0.43-py3-none-any.whl (386 kB)\n",
            "Requirement already satisfied: pygments>=2.4.0 in /usr/local/lib/python3.10/dist-packages (from ipython) (2.16.1)\n",
            "Requirement already satisfied: stack-data in /usr/local/lib/python3.10/dist-packages (from ipython) (0.6.3)\n",
            "Requirement already satisfied: traitlets>=5 in /usr/local/lib/python3.10/dist-packages (from ipython) (5.7.1)\n",
            "Requirement already satisfied: exceptiongroup in /usr/local/lib/python3.10/dist-packages (from ipython) (1.2.0)\n",
            "Requirement already satisfied: pexpect>4.3 in /usr/local/lib/python3.10/dist-packages (from ipython) (4.9.0)\n",
            "Requirement already satisfied: parso<0.9.0,>=0.8.3 in /usr/local/lib/python3.10/dist-packages (from jedi>=0.16->ipython) (0.8.3)\n",
            "Requirement already satisfied: ptyprocess>=0.5 in /usr/local/lib/python3.10/dist-packages (from pexpect>4.3->ipython) (0.7.0)\n",
            "Requirement already satisfied: wcwidth in /usr/local/lib/python3.10/dist-packages (from prompt-toolkit<3.1.0,>=3.0.41->ipython) (0.2.12)\n",
            "Requirement already satisfied: executing>=1.2.0 in /usr/local/lib/python3.10/dist-packages (from stack-data->ipython) (2.0.1)\n",
            "Requirement already satisfied: asttokens>=2.1.0 in /usr/local/lib/python3.10/dist-packages (from stack-data->ipython) (2.4.1)\n",
            "Requirement already satisfied: pure-eval in /usr/local/lib/python3.10/dist-packages (from stack-data->ipython) (0.2.2)\n",
            "Requirement already satisfied: six>=1.12.0 in /usr/local/lib/python3.10/dist-packages (from asttokens>=2.1.0->stack-data->ipython) (1.16.0)\n",
            "Installing collected packages: prompt-toolkit\n",
            "  Attempting uninstall: prompt-toolkit\n",
            "    Found existing installation: prompt-toolkit 3.0.28\n",
            "    Uninstalling prompt-toolkit-3.0.28:\n",
            "      Successfully uninstalled prompt-toolkit-3.0.28\n",
            "\u001b[31mERROR: pip's dependency resolver does not currently take into account all the packages that are installed. This behaviour is the source of the following dependency conflicts.\n",
            "ipython-sql 0.5.0 requires sqlalchemy>=2.0, but you have sqlalchemy 1.4.51 which is incompatible.\n",
            "rasa 3.4.5 requires prompt-toolkit<3.0.29,>=3.0, but you have prompt-toolkit 3.0.43 which is incompatible.\n",
            "rasa-sdk 3.4.1 requires prompt-toolkit<3.0.29,>=3.0, but you have prompt-toolkit 3.0.43 which is incompatible.\u001b[0m\u001b[31m\n",
            "\u001b[0mSuccessfully installed prompt-toolkit-3.0.43\n"
          ]
        },
        {
          "output_type": "display_data",
          "data": {
            "application/vnd.colab-display-data+json": {
              "pip_warning": {
                "packages": [
                  "prompt_toolkit"
                ]
              }
            }
          },
          "metadata": {}
        }
      ],
      "source": [
        "!pip install -U ipython"
      ]
    },
    {
      "cell_type": "code",
      "execution_count": null,
      "metadata": {
        "colab": {
          "base_uri": "https://localhost:8080/"
        },
        "id": "uFDqvlgqVEs0",
        "outputId": "63360e82-7ddb-4195-8da2-fc373418e44b"
      },
      "outputs": [
        {
          "output_type": "stream",
          "name": "stdout",
          "text": [
            "Requirement already satisfied: websockets==10.0 in /usr/local/lib/python3.10/dist-packages (10.0)\n",
            "Requirement already satisfied: websocket-client in /usr/local/lib/python3.10/dist-packages (1.7.0)\n"
          ]
        }
      ],
      "source": [
        "!pip install websockets==10.0\n",
        "!pip install websocket-client"
      ]
    },
    {
      "cell_type": "code",
      "execution_count": null,
      "metadata": {
        "colab": {
          "base_uri": "https://localhost:8080/"
        },
        "id": "4U2Szt_9xE6z",
        "outputId": "470e765e-3358-44fa-a1c7-ad1e2b769199"
      },
      "outputs": [
        {
          "output_type": "stream",
          "name": "stdout",
          "text": [
            "2024-01-14 04:04:51.451431: W tensorflow/stream_executor/platform/default/dso_loader.cc:64] Could not load dynamic library 'libcudart.so.11.0'; dlerror: libcudart.so.11.0: cannot open shared object file: No such file or directory; LD_LIBRARY_PATH: /usr/lib64-nvidia\n",
            "2024-01-14 04:04:51.451472: I tensorflow/stream_executor/cuda/cudart_stub.cc:29] Ignore above cudart dlerror if you do not have a GPU set up on your machine.\n",
            "2024-01-14 04:04:54.462453: I tensorflow/stream_executor/cuda/cuda_gpu_executor.cc:936] successful NUMA node read from SysFS had negative value (-1), but there must be at least one NUMA node, so returning NUMA node zero\n",
            "2024-01-14 04:04:54.463037: W tensorflow/stream_executor/platform/default/dso_loader.cc:64] Could not load dynamic library 'libcudart.so.11.0'; dlerror: libcudart.so.11.0: cannot open shared object file: No such file or directory; LD_LIBRARY_PATH: /usr/lib64-nvidia\n",
            "2024-01-14 04:04:54.463365: W tensorflow/stream_executor/platform/default/dso_loader.cc:64] Could not load dynamic library 'libcublas.so.11'; dlerror: libcublas.so.11: cannot open shared object file: No such file or directory; LD_LIBRARY_PATH: /usr/lib64-nvidia\n",
            "2024-01-14 04:04:54.463629: W tensorflow/stream_executor/platform/default/dso_loader.cc:64] Could not load dynamic library 'libcublasLt.so.11'; dlerror: libcublasLt.so.11: cannot open shared object file: No such file or directory; LD_LIBRARY_PATH: /usr/lib64-nvidia\n",
            "2024-01-14 04:04:54.463851: W tensorflow/stream_executor/platform/default/dso_loader.cc:64] Could not load dynamic library 'libcufft.so.10'; dlerror: libcufft.so.10: cannot open shared object file: No such file or directory; LD_LIBRARY_PATH: /usr/lib64-nvidia\n",
            "2024-01-14 04:04:54.464197: W tensorflow/stream_executor/platform/default/dso_loader.cc:64] Could not load dynamic library 'libcusparse.so.11'; dlerror: libcusparse.so.11: cannot open shared object file: No such file or directory; LD_LIBRARY_PATH: /usr/lib64-nvidia\n",
            "2024-01-14 04:04:54.464313: W tensorflow/core/common_runtime/gpu/gpu_device.cc:1850] Cannot dlopen some GPU libraries. Please make sure the missing libraries mentioned above are installed properly if you would like to use GPU. Follow the guide at https://www.tensorflow.org/install/gpu for how to download and setup the required libraries for your platform.\n",
            "Skipping registering GPU devices...\n",
            "Collecting en-core-web-sm==3.6.0\n",
            "  Downloading https://github.com/explosion/spacy-models/releases/download/en_core_web_sm-3.6.0/en_core_web_sm-3.6.0-py3-none-any.whl (12.8 MB)\n",
            "\u001b[2K     \u001b[90m━━━━━━━━━━━━━━━━━━━━━━━━━━━━━━━━━━━━━━━━\u001b[0m \u001b[32m12.8/12.8 MB\u001b[0m \u001b[31m51.9 MB/s\u001b[0m eta \u001b[36m0:00:00\u001b[0m\n",
            "\u001b[?25hRequirement already satisfied: spacy<3.7.0,>=3.6.0 in /usr/local/lib/python3.10/dist-packages (from en-core-web-sm==3.6.0) (3.6.1)\n",
            "Requirement already satisfied: spacy-legacy<3.1.0,>=3.0.11 in /usr/local/lib/python3.10/dist-packages (from spacy<3.7.0,>=3.6.0->en-core-web-sm==3.6.0) (3.0.12)\n",
            "Requirement already satisfied: spacy-loggers<2.0.0,>=1.0.0 in /usr/local/lib/python3.10/dist-packages (from spacy<3.7.0,>=3.6.0->en-core-web-sm==3.6.0) (1.0.5)\n",
            "Requirement already satisfied: murmurhash<1.1.0,>=0.28.0 in /usr/local/lib/python3.10/dist-packages (from spacy<3.7.0,>=3.6.0->en-core-web-sm==3.6.0) (1.0.10)\n",
            "Requirement already satisfied: cymem<2.1.0,>=2.0.2 in /usr/local/lib/python3.10/dist-packages (from spacy<3.7.0,>=3.6.0->en-core-web-sm==3.6.0) (2.0.8)\n",
            "Requirement already satisfied: preshed<3.1.0,>=3.0.2 in /usr/local/lib/python3.10/dist-packages (from spacy<3.7.0,>=3.6.0->en-core-web-sm==3.6.0) (3.0.9)\n",
            "Requirement already satisfied: thinc<8.2.0,>=8.1.8 in /usr/local/lib/python3.10/dist-packages (from spacy<3.7.0,>=3.6.0->en-core-web-sm==3.6.0) (8.1.12)\n",
            "Requirement already satisfied: wasabi<1.2.0,>=0.9.1 in /usr/local/lib/python3.10/dist-packages (from spacy<3.7.0,>=3.6.0->en-core-web-sm==3.6.0) (1.1.2)\n",
            "Requirement already satisfied: srsly<3.0.0,>=2.4.3 in /usr/local/lib/python3.10/dist-packages (from spacy<3.7.0,>=3.6.0->en-core-web-sm==3.6.0) (2.4.8)\n",
            "Requirement already satisfied: catalogue<2.1.0,>=2.0.6 in /usr/local/lib/python3.10/dist-packages (from spacy<3.7.0,>=3.6.0->en-core-web-sm==3.6.0) (2.0.10)\n",
            "Requirement already satisfied: typer<0.10.0,>=0.3.0 in /usr/local/lib/python3.10/dist-packages (from spacy<3.7.0,>=3.6.0->en-core-web-sm==3.6.0) (0.9.0)\n",
            "Requirement already satisfied: pathy>=0.10.0 in /usr/local/lib/python3.10/dist-packages (from spacy<3.7.0,>=3.6.0->en-core-web-sm==3.6.0) (0.10.3)\n",
            "Requirement already satisfied: smart-open<7.0.0,>=5.2.1 in /usr/local/lib/python3.10/dist-packages (from spacy<3.7.0,>=3.6.0->en-core-web-sm==3.6.0) (6.4.0)\n",
            "Requirement already satisfied: tqdm<5.0.0,>=4.38.0 in /usr/local/lib/python3.10/dist-packages (from spacy<3.7.0,>=3.6.0->en-core-web-sm==3.6.0) (4.66.1)\n",
            "Requirement already satisfied: numpy>=1.15.0 in /usr/local/lib/python3.10/dist-packages (from spacy<3.7.0,>=3.6.0->en-core-web-sm==3.6.0) (1.23.5)\n",
            "Requirement already satisfied: requests<3.0.0,>=2.13.0 in /usr/local/lib/python3.10/dist-packages (from spacy<3.7.0,>=3.6.0->en-core-web-sm==3.6.0) (2.31.0)\n",
            "Requirement already satisfied: pydantic!=1.8,!=1.8.1,<3.0.0,>=1.7.4 in /usr/local/lib/python3.10/dist-packages (from spacy<3.7.0,>=3.6.0->en-core-web-sm==3.6.0) (1.10.2)\n",
            "Requirement already satisfied: jinja2 in /usr/local/lib/python3.10/dist-packages (from spacy<3.7.0,>=3.6.0->en-core-web-sm==3.6.0) (3.1.2)\n",
            "Requirement already satisfied: setuptools in /usr/local/lib/python3.10/dist-packages (from spacy<3.7.0,>=3.6.0->en-core-web-sm==3.6.0) (67.7.2)\n",
            "Requirement already satisfied: packaging>=20.0 in /usr/local/lib/python3.10/dist-packages (from spacy<3.7.0,>=3.6.0->en-core-web-sm==3.6.0) (20.9)\n",
            "Requirement already satisfied: langcodes<4.0.0,>=3.2.0 in /usr/local/lib/python3.10/dist-packages (from spacy<3.7.0,>=3.6.0->en-core-web-sm==3.6.0) (3.3.0)\n",
            "Requirement already satisfied: pyparsing>=2.0.2 in /usr/local/lib/python3.10/dist-packages (from packaging>=20.0->spacy<3.7.0,>=3.6.0->en-core-web-sm==3.6.0) (3.1.1)\n",
            "Requirement already satisfied: typing-extensions>=4.1.0 in /usr/local/lib/python3.10/dist-packages (from pydantic!=1.8,!=1.8.1,<3.0.0,>=1.7.4->spacy<3.7.0,>=3.6.0->en-core-web-sm==3.6.0) (4.9.0)\n",
            "Requirement already satisfied: charset-normalizer<4,>=2 in /usr/local/lib/python3.10/dist-packages (from requests<3.0.0,>=2.13.0->spacy<3.7.0,>=3.6.0->en-core-web-sm==3.6.0) (3.3.2)\n",
            "Requirement already satisfied: idna<4,>=2.5 in /usr/local/lib/python3.10/dist-packages (from requests<3.0.0,>=2.13.0->spacy<3.7.0,>=3.6.0->en-core-web-sm==3.6.0) (3.6)\n",
            "Requirement already satisfied: urllib3<3,>=1.21.1 in /usr/local/lib/python3.10/dist-packages (from requests<3.0.0,>=2.13.0->spacy<3.7.0,>=3.6.0->en-core-web-sm==3.6.0) (2.0.7)\n",
            "Requirement already satisfied: certifi>=2017.4.17 in /usr/local/lib/python3.10/dist-packages (from requests<3.0.0,>=2.13.0->spacy<3.7.0,>=3.6.0->en-core-web-sm==3.6.0) (2023.11.17)\n",
            "Requirement already satisfied: blis<0.8.0,>=0.7.8 in /usr/local/lib/python3.10/dist-packages (from thinc<8.2.0,>=8.1.8->spacy<3.7.0,>=3.6.0->en-core-web-sm==3.6.0) (0.7.11)\n",
            "Requirement already satisfied: confection<1.0.0,>=0.0.1 in /usr/local/lib/python3.10/dist-packages (from thinc<8.2.0,>=8.1.8->spacy<3.7.0,>=3.6.0->en-core-web-sm==3.6.0) (0.1.4)\n",
            "Requirement already satisfied: click<9.0.0,>=7.1.1 in /usr/local/lib/python3.10/dist-packages (from typer<0.10.0,>=0.3.0->spacy<3.7.0,>=3.6.0->en-core-web-sm==3.6.0) (8.1.7)\n",
            "Requirement already satisfied: MarkupSafe>=2.0 in /usr/local/lib/python3.10/dist-packages (from jinja2->spacy<3.7.0,>=3.6.0->en-core-web-sm==3.6.0) (2.1.3)\n",
            "\u001b[38;5;2m✔ Download and installation successful\u001b[0m\n",
            "You can now load the package via spacy.load('en_core_web_sm')\n"
          ]
        }
      ],
      "source": [
        "\n",
        "!python -m spacy download en_core_web_sm"
      ]
    },
    {
      "cell_type": "code",
      "execution_count": null,
      "metadata": {
        "id": "kDKoNqcvUEFJ"
      },
      "outputs": [],
      "source": [
        "import spacy\n",
        "nlp = spacy.load(\"en_core_web_sm\")"
      ]
    },
    {
      "cell_type": "code",
      "execution_count": null,
      "metadata": {
        "colab": {
          "base_uri": "https://localhost:8080/"
        },
        "id": "CHVBIeez3cyR",
        "outputId": "dbf69054-e101-4d10-eb26-d63c1e98848a"
      },
      "outputs": [
        {
          "output_type": "stream",
          "name": "stdout",
          "text": [
            "Requirement already satisfied: nest_asyncio==1.3.3 in /usr/local/lib/python3.10/dist-packages (1.3.3)\n"
          ]
        }
      ],
      "source": [
        "\n",
        "!pip install nest_asyncio==1.3.3"
      ]
    },
    {
      "cell_type": "code",
      "execution_count": null,
      "metadata": {
        "colab": {
          "base_uri": "https://localhost:8080/"
        },
        "id": "pFVs_ym8EUTy",
        "outputId": "508a1fde-04b7-4002-9221-2b65f1cd9942"
      },
      "outputs": [
        {
          "output_type": "stream",
          "name": "stdout",
          "text": [
            "Event loop ready.\n"
          ]
        }
      ],
      "source": [
        "import os\n",
        "import rasa\n",
        "import nest_asyncio\n",
        "\n",
        "nest_asyncio.apply()\n",
        "print(\"Event loop ready.\")"
      ]
    },
    {
      "cell_type": "code",
      "execution_count": null,
      "metadata": {
        "id": "FZsqX3irEv7O"
      },
      "outputs": [],
      "source": [
        "\n",
        "from rasa.cli.scaffold import create_initial_project"
      ]
    },
    {
      "cell_type": "code",
      "execution_count": null,
      "metadata": {
        "id": "KnIOywUKE6F5"
      },
      "outputs": [],
      "source": [
        "\n",
        "project = \"Air Ticket Counter Check Point\"\n",
        "create_initial_project(project)"
      ]
    },
    {
      "cell_type": "code",
      "execution_count": null,
      "metadata": {
        "colab": {
          "base_uri": "https://localhost:8080/"
        },
        "id": "PjxVHRJCE-u5",
        "outputId": "6db22b97-d1fa-412a-b516-d015d2210d90"
      },
      "outputs": [
        {
          "output_type": "stream",
          "name": "stdout",
          "text": [
            "['tests', 'domain.yml', 'actions', 'credentials.yml', 'config.yml', 'endpoints.yml', 'data']\n"
          ]
        }
      ],
      "source": [
        "\n",
        "os.chdir(project)\n",
        "print(os.listdir(\".\"))"
      ]
    },
    {
      "cell_type": "code",
      "execution_count": null,
      "metadata": {
        "colab": {
          "base_uri": "https://localhost:8080/"
        },
        "id": "5N_1uA1KPkBt",
        "outputId": "632ecb1d-103e-4b10-ba48-29b27573423e"
      },
      "outputs": [
        {
          "output_type": "stream",
          "name": "stdout",
          "text": [
            "config.yml data/ domain.yml models/\n"
          ]
        }
      ],
      "source": [
        "\n",
        "config = \"config.yml\"\n",
        "training_files = \"data/\"\n",
        "domain = \"domain.yml\"\n",
        "output = \"models/\"\n",
        "print(config, training_files, domain, output)"
      ]
    },
    {
      "cell_type": "code",
      "execution_count": null,
      "metadata": {
        "colab": {
          "base_uri": "https://localhost:8080/"
        },
        "id": "PrdOIlziPxEo",
        "outputId": "ef6ecf2e-243f-4bd7-9f1b-56d33b7ee651"
      },
      "outputs": [
        {
          "output_type": "stream",
          "name": "stdout",
          "text": [
            "\u001b[94mThe configuration for pipeline and policies was chosen automatically. It was written into the config file at 'config.yml'.\u001b[0m\n"
          ]
        },
        {
          "output_type": "stream",
          "name": "stderr",
          "text": [
            "Epochs: 100%|██████████| 100/100 [00:33<00:00,  2.99it/s, t_loss=1.13, i_acc=1]\n",
            "Processed story blocks: 100%|██████████| 3/3 [00:00<00:00, 376.90it/s, # trackers=1]\n",
            "Processed story blocks: 100%|██████████| 3/3 [00:00<00:00, 379.64it/s, # trackers=3]\n",
            "Processed story blocks: 100%|██████████| 3/3 [00:00<00:00, 125.24it/s, # trackers=12]\n",
            "Processed story blocks: 100%|██████████| 3/3 [00:00<00:00, 62.02it/s, # trackers=39]\n",
            "Processed rules: 100%|██████████| 2/2 [00:00<00:00, 281.48it/s, # trackers=1]\n",
            "Processed trackers: 100%|██████████| 3/3 [00:00<00:00, 140.88it/s, # action=12]\n",
            "Processed actions: 12it [00:00, 694.78it/s, # examples=12]\n",
            "Processed trackers: 100%|██████████| 2/2 [00:00<00:00, 226.90it/s, # action=5]\n",
            "Processed actions: 5it [00:00, 1052.73it/s, # examples=4]\n",
            "Processed trackers: 100%|██████████| 3/3 [00:00<00:00, 170.50it/s, # action=12]\n",
            "Processed trackers: 100%|██████████| 2/2 [00:00<00:00, 1196.83it/s]\n",
            "Processed trackers: 100%|██████████| 5/5 [00:00<00:00, 900.07it/s]\n",
            "Processed trackers: 100%|██████████| 120/120 [00:00<00:00, 683.39it/s, # action=30]\n",
            "Epochs: 100%|██████████| 100/100 [00:19<00:00,  5.11it/s, t_loss=1.67, loss=1.51, acc=1]\n",
            "WARNING:rasa.shared.utils.common:The UnexpecTED Intent Policy is currently experimental and might change or be removed in the future 🔬 Please share your feedback on it in the forum (https://forum.rasa.com) to help us make this feature ready for production.\n",
            "Processed trackers: 100%|██████████| 120/120 [00:00<00:00, 1643.14it/s, # intent=12]\n",
            "Epochs: 100%|██████████| 100/100 [00:16<00:00,  6.10it/s, t_loss=0.134, loss=0.0213, acc=1]\n"
          ]
        },
        {
          "output_type": "stream",
          "name": "stdout",
          "text": [
            "\u001b[92mYour Rasa model is trained and saved at 'models/20240114-065448-wide-eel.tar.gz'.\u001b[0m\n",
            "TrainingResult(model='models/20240114-065448-wide-eel.tar.gz', code=0, dry_run_results=None)\n"
          ]
        }
      ],
      "source": [
        "# Train a ML model\n",
        "\n",
        "model_path = rasa.train(domain, config, [training_files], output)\n",
        "print(model_path)"
      ]
    },
    {
      "cell_type": "code",
      "execution_count": null,
      "metadata": {
        "id": "--XV_jksm6mN"
      },
      "outputs": [],
      "source": [
        "from rasa.jupyter import chat\n",
        "\n",
        "#endpoints = 'endpoints.yml'\n",
        "\n",
        "endpoints = None\n"
      ]
    },
    {
      "cell_type": "code",
      "execution_count": null,
      "metadata": {
        "colab": {
          "base_uri": "https://localhost:8080/"
        },
        "id": "RUCSgxbCo1Cq",
        "outputId": "10fcdf3a-0a0a-4bc3-e63c-872d4c5aedbf"
      },
      "outputs": [
        {
          "output_type": "stream",
          "name": "stderr",
          "text": [
            "/usr/local/lib/python3.10/dist-packages/tensorflow/python/framework/indexed_slices.py:444: UserWarning: Converting sparse IndexedSlices(IndexedSlices(indices=Tensor(\"gradients/cond_grad/Identity_1:0\", shape=(None,), dtype=int64), values=Tensor(\"gradients/cond_grad/Identity:0\", shape=(None,), dtype=float32), dense_shape=Tensor(\"gradients/cond_grad/Identity_2:0\", shape=(1,), dtype=int32))) to a dense Tensor of unknown shape. This may consume a large amount of memory.\n",
            "  warnings.warn(\n",
            "/usr/local/lib/python3.10/dist-packages/tensorflow/python/framework/indexed_slices.py:444: UserWarning: Converting sparse IndexedSlices(IndexedSlices(indices=Tensor(\"gradients/cond_1_grad/Identity_1:0\", shape=(None,), dtype=int64), values=Tensor(\"gradients/cond_1_grad/Identity:0\", shape=(None,), dtype=float32), dense_shape=Tensor(\"gradients/cond_1_grad/Identity_2:0\", shape=(1,), dtype=int32))) to a dense Tensor of unknown shape. This may consume a large amount of memory.\n",
            "  warnings.warn(\n",
            "WARNING:rasa.shared.utils.common:The UnexpecTED Intent Policy is currently experimental and might change or be removed in the future 🔬 Please share your feedback on it in the forum (https://forum.rasa.com) to help us make this feature ready for production.\n"
          ]
        },
        {
          "name": "stdout",
          "output_type": "stream",
          "text": [
            "Your bot is ready to talk! Type your messages here or send '/stop'.\n",
            "/stop\n"
          ]
        }
      ],
      "source": [
        "\n",
        "chat(model_path.model, endpoints)"
      ]
    },
    {
      "cell_type": "code",
      "source": [
        "%%writefile data/config.yml\n",
        "\n",
        "version: \"3.1\"\n",
        "\n",
        "language: \"en\"\n",
        "\n",
        "pipeline:\n",
        "  - name: WhitespaceTokenizer\n",
        "  - name: RegexFeaturizer\n",
        "  - name: LexicalSyntacticFeaturizer\n",
        "  - name: CountVectorsFeaturizer\n",
        "  - name: CountVectorsFeaturizer\n",
        "    analyzer: \"char_wb\"\n",
        "    min_ngram: 1\n",
        "    max_ngram: 4\n",
        "  - name: DIETClassifier\n",
        "    epochs: 100\n",
        "  - name: EntitySynonymMapper\n",
        "  - name: ResponseSelector\n",
        "    epochs: 100\n",
        "\n",
        "policies:\n",
        "  - name: MemoizationPolicy\n",
        "  - name: TEDPolicy\n",
        "  # - name: UnexpecTEDIntentPolicy\n",
        "  - name: RulePolicy\n"
      ],
      "metadata": {
        "colab": {
          "base_uri": "https://localhost:8080/"
        },
        "id": "iQdhjGEmk5Zl",
        "outputId": "a58fc35e-453d-4a8e-ba91-ff66d06898a9"
      },
      "execution_count": null,
      "outputs": [
        {
          "output_type": "stream",
          "name": "stdout",
          "text": [
            "Writing data/config.yml\n"
          ]
        }
      ]
    },
    {
      "cell_type": "code",
      "execution_count": null,
      "metadata": {
        "colab": {
          "base_uri": "https://localhost:8080/"
        },
        "id": "CbhgLbmZ78on",
        "outputId": "3bd02aec-dfa7-424d-c780-9131cb444fb4"
      },
      "outputs": [
        {
          "output_type": "stream",
          "name": "stdout",
          "text": [
            "Overwriting data/stories.yml\n"
          ]
        }
      ],
      "source": [
        "%%writefile data/stories.yml\n",
        "\n",
        "version: \"3.1\"\n",
        "\n",
        "stories:\n",
        "\n",
        "- story: check in\n",
        "  steps:\n",
        "    - intent: greet\n",
        "    - action: utter_greet\n",
        "    - intent: check_in\n",
        "    - action: utter_ask_passport_number\n",
        "    - intent: give_passport_number\n",
        "      entities:\n",
        "        - passport_number: value\n",
        "#    - action: utter_ask_reference_number\n",
        " #   - intent: give_reference_number\n",
        " #     entities:\n",
        " #       - booking_reference: value\n",
        "    - action: verify_the_passenger\n",
        "    - action: utter_check_in\n",
        "\n",
        "\n",
        "- story: Luggage limit\n",
        "  steps:\n",
        "  - intent: greet\n",
        "  - action: utter_greet\n",
        "  - intent: luggage_limit\n",
        "  - action: utter_luggage_limit\n",
        "\n",
        "- story: cancel flight\n",
        "  steps:\n",
        "    - intent: greet\n",
        "    - action: utter_greet\n",
        "    - intent: cancel_flight\n",
        "  #  - action: utter_ask_passport_number\n",
        "   # - intent: give_passport_number\n",
        "    #  entities:\n",
        "     #   - pssport_number: value\n",
        " #   - action: utter_ask_reference_number\n",
        " #    - intent: give_reference_number\n",
        " #     entities:\n",
        " #       - booking_reference: value\n",
        "    - action: utter_cancel_flight\n",
        "\n",
        "- story: policy\n",
        "  steps:\n",
        "  - intent: greet\n",
        "  - action: utter_greet\n",
        "  - intent: can_policy\n",
        "  - action: utter_can_policy\n",
        "\n",
        "- story: Take off time US\n",
        "  steps:\n",
        "  - intent: greet\n",
        "  - action: utter_greet\n",
        "  - intent: take_of_time\n",
        "  - action: utter_destination_conformation\n",
        "  - intent: destination_conformation_us\n",
        "  - action: utter_take_of_time_US\n",
        "\n",
        "- story: Take off time Canada\n",
        "  steps:\n",
        "  - intent: greet\n",
        "  - action: utter_greet\n",
        "  - intent: take_of_time\n",
        "  - action: utter_destination_conformation\n",
        "  - intent: destination_conformation_canada\n",
        "  - action: utter_take_of_time_canada\n",
        "\n",
        "- story: Landing time Us\n",
        "  steps:\n",
        "  - intent: greet\n",
        "  - action: utter_greet\n",
        "  - intent: landing_time\n",
        "  - action: utter_destination_conformation\n",
        "  - intent: destination_conformation_us\n",
        "  - action: utter_landing_time_us\n",
        "\n",
        "- story: Landing time Canada\n",
        "  steps:\n",
        "  - intent: greet\n",
        "  - action: utter_greet\n",
        "  - intent: landing_time\n",
        "  - action: utter_destination_conformation\n",
        "  - intent: destination_conformation_canada\n",
        "  - action: utter_landing_time_canada\n",
        "\n",
        "- story: Travel time Us\n",
        "  steps:\n",
        "  - intent: greet\n",
        "  - action: utter_greet\n",
        "  - intent: travel_time\n",
        "  - action: utter_destination_conformation\n",
        "  - intent: destination_conformation_us\n",
        "  - action: utter_travel_time_us\n",
        "\n",
        "- story: Travel time Canada\n",
        "  steps:\n",
        "  - intent: greet\n",
        "  - action: utter_greet\n",
        "  - intent: travel_time\n",
        "  - action: utter_destination_conformation\n",
        "  - intent: destination_conformation_canada\n",
        "  - action: utter_travel_time_canada\n",
        "\n",
        "- story: Seat booking economy\n",
        "  steps:\n",
        "  - intent: greet\n",
        "  - action: utter_greet\n",
        "  - intent: seat_booking\n",
        "  - action: utter_seat_booking_class\n",
        "  - intent: needed_economy\n",
        "  - action: utter_seat_availability_economy\n",
        "  - intent: num_seat\n",
        "  - action: utter_seat_economy\n",
        "\n",
        "- story: Seat booking business\n",
        "  steps:\n",
        "  - intent: greet\n",
        "  - action: utter_greet\n",
        "  - intent: seat_booking\n",
        "  - action: utter_seat_booking_class\n",
        "  - intent: needed_business\n",
        "  - action: utter_seat_availability_business\n",
        "  - intent: num_seat\n",
        "  - action: utter_seat_business\n",
        "\n",
        "- story: Departure gate canada\n",
        "  steps:\n",
        "  - intent: greet\n",
        "  - action: utter_greet\n",
        "  - intent: departure_gate\n",
        "  - action: utter_destination_conformation\n",
        "  - intent: destination_conformation_canada\n",
        "  - action: utter_departure_gate_canada\n",
        "\n",
        "- story: Departure gate us\n",
        "  steps:\n",
        "  - intent: greet\n",
        "  - action: utter_greet\n",
        "  - intent: departure_gate\n",
        "  - action: utter_destination_conformation\n",
        "  - intent: destination_conformation_us\n",
        "  - action: utter_departure_gate_us\n",
        "\n",
        "- story: upgrade_to_business_class\n",
        "  steps:\n",
        "  - intent: greet\n",
        "  - action: utter_greet\n",
        "  - intent: upgrade_to_business_class\n",
        "  - action: utter_upgrade_to_business_class\n",
        "\n",
        "- story: restricted items\n",
        "  steps:\n",
        "  - intent: greet\n",
        "  - action: utter_greet\n",
        "  - intent: restricted_items\n",
        "  - action: utter_restricted_items\n",
        "\n",
        "- story: happy path\n",
        "  steps:\n",
        "  - intent: greet\n",
        "  - action: utter_greet\n",
        "  - intent: mood_great\n",
        "  - action: utter_happy\n",
        "\n",
        "- story: sad path 1\n",
        "  steps:\n",
        "  - intent: greet\n",
        "  - action: utter_greet\n",
        "  - intent: mood_unhappy\n",
        "  - action: utter_cheer_up\n",
        "  - action: utter_did_that_help\n",
        "  - intent: affirm\n",
        "  - action: utter_happy\n",
        "\n",
        "- story: sad goodbye\n",
        "  steps:\n",
        "  - intent: greet\n",
        "  - action: utter_greet\n",
        "  - intent: mood_unhappy\n",
        "  - action: utter_cheer_up\n",
        "  - action: utter_did_that_help\n",
        "  - intent: deny\n",
        "  - action: utter_sad_goodbye\n",
        "\n",
        "- story: say goodbye\n",
        "  steps:\n",
        "  - intent: goodbye\n",
        "  - action: utter_goodbye\n",
        "\n",
        "- story: bot challenge\n",
        "  steps:\n",
        "  - intent: bot_challenge\n",
        "  - action: utter_iamabot\n"
      ]
    },
    {
      "cell_type": "code",
      "source": [
        "!pip install dlib\n",
        "!pip install deepface\n",
        "\n",
        "import cv2\n",
        "import os\n",
        "import dlib\n",
        "from deepface import DeepFace\n",
        "\n",
        "from google.colab import drive\n",
        "drive.mount('/content/gdrive')"
      ],
      "metadata": {
        "colab": {
          "base_uri": "https://localhost:8080/"
        },
        "id": "ZhJVDNPIEqnC",
        "outputId": "bb4fcfa8-8fbd-4ed7-9662-422ddf9105d9"
      },
      "execution_count": null,
      "outputs": [
        {
          "output_type": "stream",
          "name": "stdout",
          "text": [
            "Requirement already satisfied: dlib in /usr/local/lib/python3.10/dist-packages (19.24.2)\n",
            "Requirement already satisfied: deepface in /usr/local/lib/python3.10/dist-packages (0.0.81)\n",
            "Requirement already satisfied: numpy>=1.14.0 in /usr/local/lib/python3.10/dist-packages (from deepface) (1.23.5)\n",
            "Requirement already satisfied: pandas>=0.23.4 in /usr/local/lib/python3.10/dist-packages (from deepface) (1.5.3)\n",
            "Requirement already satisfied: gdown>=3.10.1 in /usr/local/lib/python3.10/dist-packages (from deepface) (4.6.6)\n",
            "Requirement already satisfied: tqdm>=4.30.0 in /usr/local/lib/python3.10/dist-packages (from deepface) (4.66.1)\n",
            "Requirement already satisfied: Pillow>=5.2.0 in /usr/local/lib/python3.10/dist-packages (from deepface) (9.4.0)\n",
            "Requirement already satisfied: opencv-python>=4.5.5.64 in /usr/local/lib/python3.10/dist-packages (from deepface) (4.8.0.76)\n",
            "Requirement already satisfied: tensorflow>=1.9.0 in /usr/local/lib/python3.10/dist-packages (from deepface) (2.8.4)\n",
            "Requirement already satisfied: keras>=2.2.0 in /usr/local/lib/python3.10/dist-packages (from deepface) (2.8.0)\n",
            "Requirement already satisfied: Flask>=1.1.2 in /usr/local/lib/python3.10/dist-packages (from deepface) (2.2.5)\n",
            "Requirement already satisfied: mtcnn>=0.1.0 in /usr/local/lib/python3.10/dist-packages (from deepface) (0.1.1)\n",
            "Requirement already satisfied: retina-face>=0.0.1 in /usr/local/lib/python3.10/dist-packages (from deepface) (0.0.13)\n",
            "Requirement already satisfied: fire>=0.4.0 in /usr/local/lib/python3.10/dist-packages (from deepface) (0.5.0)\n",
            "Requirement already satisfied: gunicorn>=20.1.0 in /usr/local/lib/python3.10/dist-packages (from deepface) (21.2.0)\n",
            "Requirement already satisfied: Deprecated>=1.2.13 in /usr/local/lib/python3.10/dist-packages (from deepface) (1.2.14)\n",
            "Requirement already satisfied: wrapt<2,>=1.10 in /usr/local/lib/python3.10/dist-packages (from Deprecated>=1.2.13->deepface) (1.14.1)\n",
            "Requirement already satisfied: six in /usr/local/lib/python3.10/dist-packages (from fire>=0.4.0->deepface) (1.16.0)\n",
            "Requirement already satisfied: termcolor in /usr/local/lib/python3.10/dist-packages (from fire>=0.4.0->deepface) (2.4.0)\n",
            "Requirement already satisfied: Werkzeug>=2.2.2 in /usr/local/lib/python3.10/dist-packages (from Flask>=1.1.2->deepface) (3.0.1)\n",
            "Requirement already satisfied: Jinja2>=3.0 in /usr/local/lib/python3.10/dist-packages (from Flask>=1.1.2->deepface) (3.1.2)\n",
            "Requirement already satisfied: itsdangerous>=2.0 in /usr/local/lib/python3.10/dist-packages (from Flask>=1.1.2->deepface) (2.1.2)\n",
            "Requirement already satisfied: click>=8.0 in /usr/local/lib/python3.10/dist-packages (from Flask>=1.1.2->deepface) (8.1.7)\n",
            "Requirement already satisfied: filelock in /usr/local/lib/python3.10/dist-packages (from gdown>=3.10.1->deepface) (3.13.1)\n",
            "Requirement already satisfied: requests[socks] in /usr/local/lib/python3.10/dist-packages (from gdown>=3.10.1->deepface) (2.31.0)\n",
            "Requirement already satisfied: beautifulsoup4 in /usr/local/lib/python3.10/dist-packages (from gdown>=3.10.1->deepface) (4.11.2)\n",
            "Requirement already satisfied: packaging in /usr/local/lib/python3.10/dist-packages (from gunicorn>=20.1.0->deepface) (20.9)\n",
            "Requirement already satisfied: python-dateutil>=2.8.1 in /usr/local/lib/python3.10/dist-packages (from pandas>=0.23.4->deepface) (2.8.2)\n",
            "Requirement already satisfied: pytz>=2020.1 in /usr/local/lib/python3.10/dist-packages (from pandas>=0.23.4->deepface) (2022.7.1)\n",
            "Requirement already satisfied: absl-py>=0.4.0 in /usr/local/lib/python3.10/dist-packages (from tensorflow>=1.9.0->deepface) (1.3.0)\n",
            "Requirement already satisfied: astunparse>=1.6.0 in /usr/local/lib/python3.10/dist-packages (from tensorflow>=1.9.0->deepface) (1.6.3)\n",
            "Requirement already satisfied: flatbuffers>=1.12 in /usr/local/lib/python3.10/dist-packages (from tensorflow>=1.9.0->deepface) (23.5.26)\n",
            "Requirement already satisfied: gast>=0.2.1 in /usr/local/lib/python3.10/dist-packages (from tensorflow>=1.9.0->deepface) (0.5.4)\n",
            "Requirement already satisfied: google-pasta>=0.1.1 in /usr/local/lib/python3.10/dist-packages (from tensorflow>=1.9.0->deepface) (0.2.0)\n",
            "Requirement already satisfied: h5py>=2.9.0 in /usr/local/lib/python3.10/dist-packages (from tensorflow>=1.9.0->deepface) (3.9.0)\n",
            "Requirement already satisfied: keras-preprocessing>=1.1.1 in /usr/local/lib/python3.10/dist-packages (from tensorflow>=1.9.0->deepface) (1.1.2)\n",
            "Requirement already satisfied: libclang>=9.0.1 in /usr/local/lib/python3.10/dist-packages (from tensorflow>=1.9.0->deepface) (16.0.6)\n",
            "Requirement already satisfied: opt-einsum>=2.3.2 in /usr/local/lib/python3.10/dist-packages (from tensorflow>=1.9.0->deepface) (3.3.0)\n",
            "Requirement already satisfied: protobuf<3.20,>=3.9.2 in /usr/local/lib/python3.10/dist-packages (from tensorflow>=1.9.0->deepface) (3.19.6)\n",
            "Requirement already satisfied: setuptools in /usr/local/lib/python3.10/dist-packages (from tensorflow>=1.9.0->deepface) (67.7.2)\n",
            "Requirement already satisfied: typing-extensions>=3.6.6 in /usr/local/lib/python3.10/dist-packages (from tensorflow>=1.9.0->deepface) (4.9.0)\n",
            "Requirement already satisfied: tensorboard<2.9,>=2.8 in /usr/local/lib/python3.10/dist-packages (from tensorflow>=1.9.0->deepface) (2.8.0)\n",
            "Requirement already satisfied: tensorflow-estimator<2.9,>=2.8 in /usr/local/lib/python3.10/dist-packages (from tensorflow>=1.9.0->deepface) (2.8.0)\n",
            "Requirement already satisfied: tensorflow-io-gcs-filesystem>=0.23.1 in /usr/local/lib/python3.10/dist-packages (from tensorflow>=1.9.0->deepface) (0.35.0)\n",
            "Requirement already satisfied: grpcio<2.0,>=1.24.3 in /usr/local/lib/python3.10/dist-packages (from tensorflow>=1.9.0->deepface) (1.60.0)\n",
            "Requirement already satisfied: wheel<1.0,>=0.23.0 in /usr/local/lib/python3.10/dist-packages (from astunparse>=1.6.0->tensorflow>=1.9.0->deepface) (0.42.0)\n",
            "Requirement already satisfied: MarkupSafe>=2.0 in /usr/local/lib/python3.10/dist-packages (from Jinja2>=3.0->Flask>=1.1.2->deepface) (2.1.3)\n",
            "Requirement already satisfied: google-auth<3,>=1.6.3 in /usr/local/lib/python3.10/dist-packages (from tensorboard<2.9,>=2.8->tensorflow>=1.9.0->deepface) (2.17.3)\n",
            "Requirement already satisfied: google-auth-oauthlib<0.5,>=0.4.1 in /usr/local/lib/python3.10/dist-packages (from tensorboard<2.9,>=2.8->tensorflow>=1.9.0->deepface) (0.4.6)\n",
            "Requirement already satisfied: markdown>=2.6.8 in /usr/local/lib/python3.10/dist-packages (from tensorboard<2.9,>=2.8->tensorflow>=1.9.0->deepface) (3.5.1)\n",
            "Requirement already satisfied: tensorboard-data-server<0.7.0,>=0.6.0 in /usr/local/lib/python3.10/dist-packages (from tensorboard<2.9,>=2.8->tensorflow>=1.9.0->deepface) (0.6.1)\n",
            "Requirement already satisfied: tensorboard-plugin-wit>=1.6.0 in /usr/local/lib/python3.10/dist-packages (from tensorboard<2.9,>=2.8->tensorflow>=1.9.0->deepface) (1.8.1)\n",
            "Requirement already satisfied: soupsieve>1.2 in /usr/local/lib/python3.10/dist-packages (from beautifulsoup4->gdown>=3.10.1->deepface) (2.5)\n",
            "Requirement already satisfied: pyparsing>=2.0.2 in /usr/local/lib/python3.10/dist-packages (from packaging->gunicorn>=20.1.0->deepface) (3.1.1)\n",
            "Requirement already satisfied: charset-normalizer<4,>=2 in /usr/local/lib/python3.10/dist-packages (from requests[socks]->gdown>=3.10.1->deepface) (3.3.2)\n",
            "Requirement already satisfied: idna<4,>=2.5 in /usr/local/lib/python3.10/dist-packages (from requests[socks]->gdown>=3.10.1->deepface) (3.6)\n",
            "Requirement already satisfied: urllib3<3,>=1.21.1 in /usr/local/lib/python3.10/dist-packages (from requests[socks]->gdown>=3.10.1->deepface) (2.0.7)\n",
            "Requirement already satisfied: certifi>=2017.4.17 in /usr/local/lib/python3.10/dist-packages (from requests[socks]->gdown>=3.10.1->deepface) (2023.11.17)\n",
            "Requirement already satisfied: PySocks!=1.5.7,>=1.5.6 in /usr/local/lib/python3.10/dist-packages (from requests[socks]->gdown>=3.10.1->deepface) (1.7.1)\n",
            "Requirement already satisfied: cachetools<6.0,>=2.0.0 in /usr/local/lib/python3.10/dist-packages (from google-auth<3,>=1.6.3->tensorboard<2.9,>=2.8->tensorflow>=1.9.0->deepface) (5.3.2)\n",
            "Requirement already satisfied: pyasn1-modules>=0.2.1 in /usr/local/lib/python3.10/dist-packages (from google-auth<3,>=1.6.3->tensorboard<2.9,>=2.8->tensorflow>=1.9.0->deepface) (0.3.0)\n",
            "Requirement already satisfied: rsa<5,>=3.1.4 in /usr/local/lib/python3.10/dist-packages (from google-auth<3,>=1.6.3->tensorboard<2.9,>=2.8->tensorflow>=1.9.0->deepface) (4.9)\n",
            "Requirement already satisfied: requests-oauthlib>=0.7.0 in /usr/local/lib/python3.10/dist-packages (from google-auth-oauthlib<0.5,>=0.4.1->tensorboard<2.9,>=2.8->tensorflow>=1.9.0->deepface) (1.3.1)\n",
            "Requirement already satisfied: pyasn1<0.6.0,>=0.4.6 in /usr/local/lib/python3.10/dist-packages (from pyasn1-modules>=0.2.1->google-auth<3,>=1.6.3->tensorboard<2.9,>=2.8->tensorflow>=1.9.0->deepface) (0.5.1)\n",
            "Requirement already satisfied: oauthlib>=3.0.0 in /usr/local/lib/python3.10/dist-packages (from requests-oauthlib>=0.7.0->google-auth-oauthlib<0.5,>=0.4.1->tensorboard<2.9,>=2.8->tensorflow>=1.9.0->deepface) (3.2.2)\n",
            "Drive already mounted at /content/gdrive; to attempt to forcibly remount, call drive.mount(\"/content/gdrive\", force_remount=True).\n"
          ]
        }
      ]
    },
    {
      "cell_type": "code",
      "source": [
        "# actions.py\n",
        "\n",
        "from rasa_sdk import Action, Tracker\n",
        "from rasa_sdk.executor import CollectingDispatcher\n",
        "from deepface import DeepFace  # Make sure to import DeepFace\n",
        "\n",
        "class VerifyThePassengerAction(Action):\n",
        "    def name(self):\n",
        "        return \"verify_the_passenger\"\n",
        "\n",
        "    async def run(self, dispatcher: CollectingDispatcher, tracker: Tracker, domain: dict) -> list:\n",
        "\n",
        "        passport_number = tracker.get_slot(\"passport_number\")\n",
        "        #booking_reference = tracker.get_slot(\"booking_reference\")\n",
        "\n",
        "\n",
        "        verification_result = self.face_recognition_verification(passport_number)\n",
        "\n",
        "\n",
        "        if verification_result:\n",
        "            dispatcher.utter_message(\"Face recognition successful. How can I assist you with your check-in?\")\n",
        "        else:\n",
        "            dispatcher.utter_message(\"Face recognition failed. Please check your face and try again.\")\n",
        "\n",
        "        return []\n",
        "\n",
        "    def face_recognition_verification(self, passport_number):\n",
        "\n",
        "\n",
        "\n",
        "        img1_path = f\"/content/gdrive/Othercomputers/My Laptop (1)/Sampel/PP Image/{passport_number}\"\n",
        "        img2_path = f\"/content/gdrive/Othercomputers/My Laptop (1)/Sampel/Current Image/{passport_number}\"\n",
        "\n",
        "        result = DeepFace.verify(img1_path=img1_path, img2_path=img2_path)\n",
        "        face_verification_result = result['verified']\n",
        "\n",
        "        return face_verification_result\n"
      ],
      "metadata": {
        "id": "Ji7LYSRh2dhW"
      },
      "execution_count": null,
      "outputs": []
    },
    {
      "cell_type": "code",
      "execution_count": null,
      "metadata": {
        "colab": {
          "base_uri": "https://localhost:8080/"
        },
        "id": "N2rgJBWcsN_F",
        "outputId": "a4815bae-10f8-47d6-c30b-c42ee7ace64e"
      },
      "outputs": [
        {
          "output_type": "stream",
          "name": "stdout",
          "text": [
            "Overwriting domain.yml\n"
          ]
        }
      ],
      "source": [
        "%%writefile domain.yml\n",
        "\n",
        "version: \"3.1\"\n",
        "\n",
        "slots:\n",
        "  passport_number:\n",
        "    type: text\n",
        "    influence_conversation: false\n",
        "    mappings:\n",
        "    - type: custom\n",
        "  #booking_reference:\n",
        "  #  type: text\n",
        "  #  influence_conversation: false\n",
        "  #  mappings:\n",
        "   # - type: custom\n",
        "\n",
        "intents:\n",
        "  - check_in\n",
        "  - luggage_limit\n",
        "  - cancel_flight\n",
        "  - can_policy\n",
        "  - take_of_time\n",
        "  - destination_conformation_us\n",
        "  - destination_conformation_canada\n",
        "  - landing_time\n",
        "  - seat_booking\n",
        "  - needed_economy\n",
        "  - needed_business\n",
        "  - travel_time\n",
        "  - restricted_items\n",
        "  - num_seat\n",
        "  - departure_gate\n",
        "  - upgrade_to_business_class\n",
        "  - greet\n",
        "  - goodbye\n",
        "  - affirm\n",
        "#  - give_reference_number\n",
        "  - give_passport_number\n",
        "  - deny\n",
        "  - mood_great\n",
        "  - mood_unhappy\n",
        "  - bot_challenge\n",
        "\n",
        "responses:\n",
        "\n",
        "  utter_check_in:\n",
        "  - text: \"Thank you for Check in, Please wait until our agent connect with you\"\n",
        "\n",
        "  utter_luggage_limit:\n",
        "  - text: '''You can check in as many bags as you like up to the weight allowance for your travel class. Each individual bag must not weigh more than 32kg (for mor details please log in to our website)'''\n",
        "\n",
        "  utter_can_policy:\n",
        "  - text: \"Please log in to our website to get full details about our policy\"\n",
        "\n",
        "  utter_cancel_flight:\n",
        "  - text: \"Your ticket cancelation request sent successfully, Please wait until our agent connect with you\"\n",
        "\n",
        "  utter_destination_conformation:\n",
        "  - text: \"Please conferm your destination is it to Us or Canada\"\n",
        "\n",
        "  utter_take_of_time_US:\n",
        "  - text: \"Every day our flight to US take of at 9:00 am \"\n",
        "\n",
        "  utter_take_of_time_canada:\n",
        "  - text: \"Every day our flight to US take of at 4:00 pm\"\n",
        "\n",
        "  utter_landing_time_canada:\n",
        "  - text: \"Every day our flight to US land in New York International Airport at 11:00am (in local time)\"\n",
        "\n",
        "  utter_landing_time_us:\n",
        "  - text: \"Every day our flight to canada land in Halifax Stanfield International Airport at 06:00pm (in local time)\"\n",
        "\n",
        "  utter_travel_time_canada:\n",
        "  - text: \"Travel time from Londan to New York International Airport is 3 hours\"\n",
        "\n",
        "  utter_travel_time_us:\n",
        "  - text: \"Travel time from Londan to Halifax Stanfield International Airpor is 3 hours\"\n",
        "\n",
        "  utter_seat_booking_class:\n",
        "  - text: \"Which class you prefer Economy or Business\"\n",
        "\n",
        "  utter_seat_availability_economy:\n",
        "  - text: \"We have only few seats remaining in economy class please book your seat as soon as posibel\"\n",
        "\n",
        "  utter_seat_economy:\n",
        "  - text: \"Your economy class seat booking conformation is sussesfuly submited, Please wait until our agent connect with you\"\n",
        "\n",
        "  utter_seat_availability_business:\n",
        "  - text: \"We have only few seats remaining in business class please book your seat as soon as posibel\"\n",
        "\n",
        "  utter_seat_business:\n",
        "  - text: \"Your business class seat booking conformation is sussesfuly submited, Please wait until our agent connect with you\"\n",
        "\n",
        "  utter_departure_gate_canada:\n",
        "  - text: \"Departure gate for passengers who are traveling to Canada is gate No.C5\"\n",
        "\n",
        "  utter_departure_gate_us:\n",
        "  - text: \"Departure gate for passengers who are traveling to US is gate No.A12\"\n",
        "\n",
        "  utter_restricted_items:\n",
        "  - text: \"Please log in to our website to get full details about restricted items\"\n",
        "\n",
        "  utter_upgrade_to_business_class:\n",
        "  - text: \"Please wait until our agent connect with you\"\n",
        "\n",
        "  utter_greet:\n",
        "  - text: \"Hey! Welcome to our Air line, How may i help you?\"\n",
        "\n",
        "  utter_cheer_up:\n",
        "  - text: \"Here is something to cheer you up:\"\n",
        "    image: \"https://i.imgur.com/nGF1K8f.jpg\"\n",
        "\n",
        "  utter_did_that_help:\n",
        "  - text: \"Did that help you?\"\n",
        "\n",
        "  utter_happy:\n",
        "  - text: \"Great, carry on!\"\n",
        "\n",
        "  utter_ask_passport_number:\n",
        "  - text: \"Please enter your passport number\"\n",
        "\n",
        "  # utter_ask_reference_number:\n",
        "  # - text: \"Please enter your booking reference code\"\n",
        "\n",
        "  utter_goodbye:\n",
        "  - text: \"Bye\"\n",
        "\n",
        "  utter_sad_goodbye:\n",
        "  - text: \"Bye\"\n",
        "\n",
        "  utter_iamabot:\n",
        "  - text: \"I am a bot, powered by Rasa.\"\n",
        "\n",
        "entities:\n",
        "  - number\n",
        "  - passport_number\n",
        "  #- booking_reference\n",
        "\n",
        "actions:\n",
        "  - verify_the_passenger\n",
        "\n",
        "session_config:\n",
        "  session_expiration_time: 60\n",
        "  carry_over_slots_to_new_session: true\n",
        "\n"
      ]
    },
    {
      "cell_type": "code",
      "source": [
        "!pip install pyngrok\n",
        "from pyngrok import ngrok\n",
        "ngrok.set_auth_token(\"2aw02NdssYsxXdFZpxLwLotHPwi_pnmnf9SpkBVm8gUJvNSL\")"
      ],
      "metadata": {
        "colab": {
          "base_uri": "https://localhost:8080/"
        },
        "id": "tSx784q-s9gx",
        "outputId": "6d39c2e7-2722-43a9-dda3-6f4f8fed9448"
      },
      "execution_count": null,
      "outputs": [
        {
          "output_type": "stream",
          "name": "stdout",
          "text": [
            "Requirement already satisfied: pyngrok in /usr/local/lib/python3.10/dist-packages (7.0.5)\n",
            "Requirement already satisfied: PyYAML in /usr/local/lib/python3.10/dist-packages (from pyngrok) (6.0.1)\n"
          ]
        }
      ]
    },
    {
      "cell_type": "code",
      "source": [
        "!pip install pyngrok\n",
        "from pyngrok import ngrok\n",
        "\n",
        "\n",
        "http_tunnel = ngrok.connect(5055, \"http\")\n",
        "public_url = http_tunnel.public_url\n",
        "print(\"Action server can be accessed at:\", public_url)\n"
      ],
      "metadata": {
        "colab": {
          "base_uri": "https://localhost:8080/"
        },
        "id": "HsBX7px7rYco",
        "outputId": "d87f2a49-d864-4f6c-fe93-86ece2f4f0e0"
      },
      "execution_count": null,
      "outputs": [
        {
          "output_type": "stream",
          "name": "stdout",
          "text": [
            "Requirement already satisfied: pyngrok in /usr/local/lib/python3.10/dist-packages (7.0.5)\n",
            "Requirement already satisfied: PyYAML in /usr/local/lib/python3.10/dist-packages (from pyngrok) (6.0.1)\n",
            "Action server can be accessed at: https://6736-35-204-39-83.ngrok-free.app\n"
          ]
        }
      ]
    },
    {
      "cell_type": "code",
      "source": [
        "%%writefile endpoints.yml\n",
        "\n",
        "version: \"3.1\"\n",
        "\n",
        "action_endpoint:\n",
        "  url: \"http://https://4086-35-204-39-83.ngrok-free.app/.ngrok.io/webhook\"\n"
      ],
      "metadata": {
        "colab": {
          "base_uri": "https://localhost:8080/"
        },
        "id": "Knwf6d2wmiqJ",
        "outputId": "bc7a0de5-5d4b-4afd-d57b-6e5e0338f3db"
      },
      "execution_count": null,
      "outputs": [
        {
          "output_type": "stream",
          "name": "stdout",
          "text": [
            "Overwriting endpoints.yml\n"
          ]
        }
      ]
    },
    {
      "cell_type": "code",
      "source": [
        "!rasa run actions --actions actions\n"
      ],
      "metadata": {
        "id": "TOKc1juevE3g"
      },
      "execution_count": null,
      "outputs": []
    },
    {
      "cell_type": "code",
      "execution_count": null,
      "metadata": {
        "id": "yp5XVt3Gam9g"
      },
      "outputs": [],
      "source": [
        "\n",
        "# Train a ML model\n",
        "model_path = rasa.train(domain, config, [training_files], output)\n",
        "print(model_path)"
      ]
    },
    {
      "cell_type": "code",
      "execution_count": null,
      "metadata": {
        "id": "W2CiToecSt6V"
      },
      "outputs": [],
      "source": [
        "from rasa.jupyter import chat\n",
        "#endpoints = 'endpoints.yml'\n",
        "\n",
        "endpoints = None\n"
      ]
    },
    {
      "cell_type": "code",
      "execution_count": null,
      "metadata": {
        "colab": {
          "base_uri": "https://localhost:8080/",
          "height": 1000
        },
        "id": "U1nCBzU_X-hM",
        "outputId": "1e5048ce-52ec-43c2-e67f-6462f9b61cd1"
      },
      "outputs": [
        {
          "output_type": "stream",
          "name": "stderr",
          "text": [
            "WARNING:rasa.shared.utils.common:The UnexpecTED Intent Policy is currently experimental and might change or be removed in the future 🔬 Please share your feedback on it in the forum (https://forum.rasa.com) to help us make this feature ready for production.\n"
          ]
        },
        {
          "name": "stdout",
          "output_type": "stream",
          "text": [
            "Your bot is ready to talk! Type your messages here or send '/stop'.\n",
            "hi\n",
            "\u001b[92mHey! Welcome to our Air line, How may i help you?\u001b[0m\n",
            "i need to check in\n",
            "\u001b[92mPlease enter your passport number\u001b[0m\n",
            "Here is my passport: DE987654\n"
          ]
        },
        {
          "output_type": "stream",
          "name": "stderr",
          "text": [
            "ERROR:rasa.core.processor:Encountered an exception while running action 'verify_the_passenger'.Bot will continue, but the actions events are lost. Please check the logs of your action server for more information.\n",
            "Traceback (most recent call last):\n",
            "  File \"/usr/local/lib/python3.10/dist-packages/rasa/core/processor.py\", line 874, in _run_action\n",
            "    events = await action.run(\n",
            "  File \"/usr/local/lib/python3.10/dist-packages/rasa/core/actions/action.py\", line 751, in run\n",
            "    raise RasaException(\n",
            "rasa.shared.exceptions.RasaException: Failed to execute custom action 'verify_the_passenger' because no endpoint is configured to run this custom action. Please take a look at the docs and set an endpoint configuration via the --endpoints flag. https://rasa.com/docs/rasa/custom-actions\n"
          ]
        },
        {
          "output_type": "stream",
          "name": "stdout",
          "text": [
            "\u001b[92mThank you for Check in, Please wait until our agent connect with you\u001b[0m\n"
          ]
        },
        {
          "output_type": "error",
          "ename": "KeyboardInterrupt",
          "evalue": "Interrupted by user",
          "traceback": [
            "\u001b[0;31m---------------------------------------------------------------------------\u001b[0m",
            "\u001b[0;31mKeyboardInterrupt\u001b[0m                         Traceback (most recent call last)",
            "Cell \u001b[0;32mIn[116], line 5\u001b[0m\n\u001b[1;32m      1\u001b[0m \u001b[38;5;66;03m# Chat with your assistant#\u001b[39;00m\n\u001b[1;32m      2\u001b[0m \u001b[38;5;66;03m# To start chatting to an assistant, call the chat function, passing in the path to your saved model.\u001b[39;00m\n\u001b[1;32m      3\u001b[0m \u001b[38;5;66;03m# If you do not have custom actions you can set endpoints = None or omit it:\u001b[39;00m\n\u001b[0;32m----> 5\u001b[0m \u001b[43mchat\u001b[49m\u001b[43m(\u001b[49m\u001b[43mmodel_path\u001b[49m\u001b[38;5;241;43m.\u001b[39;49m\u001b[43mmodel\u001b[49m\u001b[43m,\u001b[49m\u001b[43m \u001b[49m\u001b[43mendpoints\u001b[49m\u001b[43m)\u001b[49m\n",
            "File \u001b[0;32m/usr/local/lib/python3.10/dist-packages/rasa/jupyter.py:45\u001b[0m, in \u001b[0;36mchat\u001b[0;34m(model_path, endpoints, agent)\u001b[0m\n\u001b[1;32m     43\u001b[0m \u001b[38;5;28mprint\u001b[39m(\u001b[38;5;124m\"\u001b[39m\u001b[38;5;124mYour bot is ready to talk! Type your messages here or send \u001b[39m\u001b[38;5;124m'\u001b[39m\u001b[38;5;124m/stop\u001b[39m\u001b[38;5;124m'\u001b[39m\u001b[38;5;124m.\u001b[39m\u001b[38;5;124m\"\u001b[39m)\n\u001b[1;32m     44\u001b[0m \u001b[38;5;28;01mwhile\u001b[39;00m \u001b[38;5;28;01mTrue\u001b[39;00m:\n\u001b[0;32m---> 45\u001b[0m     message \u001b[38;5;241m=\u001b[39m \u001b[38;5;28;43minput\u001b[39;49m\u001b[43m(\u001b[49m\u001b[43m)\u001b[49m\n\u001b[1;32m     46\u001b[0m     \u001b[38;5;28;01mif\u001b[39;00m message \u001b[38;5;241m==\u001b[39m \u001b[38;5;124m\"\u001b[39m\u001b[38;5;124m/stop\u001b[39m\u001b[38;5;124m\"\u001b[39m:\n\u001b[1;32m     47\u001b[0m         \u001b[38;5;28;01mbreak\u001b[39;00m\n",
            "File \u001b[0;32m/usr/local/lib/python3.10/dist-packages/ipykernel/kernelbase.py:851\u001b[0m, in \u001b[0;36mKernel.raw_input\u001b[0;34m(self, prompt)\u001b[0m\n\u001b[1;32m    847\u001b[0m \u001b[38;5;28;01mif\u001b[39;00m \u001b[38;5;129;01mnot\u001b[39;00m \u001b[38;5;28mself\u001b[39m\u001b[38;5;241m.\u001b[39m_allow_stdin:\n\u001b[1;32m    848\u001b[0m     \u001b[38;5;28;01mraise\u001b[39;00m StdinNotImplementedError(\n\u001b[1;32m    849\u001b[0m         \u001b[38;5;124m\"\u001b[39m\u001b[38;5;124mraw_input was called, but this frontend does not support input requests.\u001b[39m\u001b[38;5;124m\"\u001b[39m\n\u001b[1;32m    850\u001b[0m     )\n\u001b[0;32m--> 851\u001b[0m \u001b[38;5;28;01mreturn\u001b[39;00m \u001b[38;5;28;43mself\u001b[39;49m\u001b[38;5;241;43m.\u001b[39;49m\u001b[43m_input_request\u001b[49m\u001b[43m(\u001b[49m\u001b[38;5;28;43mstr\u001b[39;49m\u001b[43m(\u001b[49m\u001b[43mprompt\u001b[49m\u001b[43m)\u001b[49m\u001b[43m,\u001b[49m\n\u001b[1;32m    852\u001b[0m \u001b[43m    \u001b[49m\u001b[38;5;28;43mself\u001b[39;49m\u001b[38;5;241;43m.\u001b[39;49m\u001b[43m_parent_ident\u001b[49m\u001b[43m,\u001b[49m\n\u001b[1;32m    853\u001b[0m \u001b[43m    \u001b[49m\u001b[38;5;28;43mself\u001b[39;49m\u001b[38;5;241;43m.\u001b[39;49m\u001b[43m_parent_header\u001b[49m\u001b[43m,\u001b[49m\n\u001b[1;32m    854\u001b[0m \u001b[43m    \u001b[49m\u001b[43mpassword\u001b[49m\u001b[38;5;241;43m=\u001b[39;49m\u001b[38;5;28;43;01mFalse\u001b[39;49;00m\u001b[43m,\u001b[49m\n\u001b[1;32m    855\u001b[0m \u001b[43m\u001b[49m\u001b[43m)\u001b[49m\n",
            "File \u001b[0;32m/usr/local/lib/python3.10/dist-packages/ipykernel/kernelbase.py:895\u001b[0m, in \u001b[0;36mKernel._input_request\u001b[0;34m(self, prompt, ident, parent, password)\u001b[0m\n\u001b[1;32m    892\u001b[0m             \u001b[38;5;28;01mbreak\u001b[39;00m\n\u001b[1;32m    893\u001b[0m \u001b[38;5;28;01mexcept\u001b[39;00m \u001b[38;5;167;01mKeyboardInterrupt\u001b[39;00m:\n\u001b[1;32m    894\u001b[0m     \u001b[38;5;66;03m# re-raise KeyboardInterrupt, to truncate traceback\u001b[39;00m\n\u001b[0;32m--> 895\u001b[0m     \u001b[38;5;28;01mraise\u001b[39;00m \u001b[38;5;167;01mKeyboardInterrupt\u001b[39;00m(\u001b[38;5;124m\"\u001b[39m\u001b[38;5;124mInterrupted by user\u001b[39m\u001b[38;5;124m\"\u001b[39m) \u001b[38;5;28;01mfrom\u001b[39;00m \u001b[38;5;28;01mNone\u001b[39;00m\n\u001b[1;32m    896\u001b[0m \u001b[38;5;28;01mexcept\u001b[39;00m \u001b[38;5;167;01mException\u001b[39;00m \u001b[38;5;28;01mas\u001b[39;00m e:\n\u001b[1;32m    897\u001b[0m     \u001b[38;5;28mself\u001b[39m\u001b[38;5;241m.\u001b[39mlog\u001b[38;5;241m.\u001b[39mwarning(\u001b[38;5;124m\"\u001b[39m\u001b[38;5;124mInvalid Message:\u001b[39m\u001b[38;5;124m\"\u001b[39m, exc_info\u001b[38;5;241m=\u001b[39m\u001b[38;5;28;01mTrue\u001b[39;00m)\n",
            "\u001b[0;31mKeyboardInterrupt\u001b[0m: Interrupted by user"
          ]
        }
      ],
      "source": [
        "\n",
        "chat(model_path.model, endpoints)"
      ]
    },
    {
      "cell_type": "code",
      "execution_count": null,
      "metadata": {
        "colab": {
          "base_uri": "https://localhost:8080/"
        },
        "id": "UbxxBbmeZmTt",
        "outputId": "c8bbe83d-6dc3-4641-8338-15919152b837"
      },
      "outputs": [
        {
          "name": "stdout",
          "output_type": "stream",
          "text": [
            "/tmp/tmpc0pjnm6_ /tmp/tmp65mt1kzm\n",
            "Done testing.\n"
          ]
        },
        {
          "name": "stderr",
          "output_type": "stream",
          "text": [
            "/usr/local/lib/python3.10/dist-packages/rasa/api.py:143: RuntimeWarning: coroutine 'test_core' was never awaited\n",
            "  test_core(model, stories, output, additional_arguments)  # type: ignore[unused-coroutine] # noqa: E501\n",
            "RuntimeWarning: Enable tracemalloc to get the object allocation traceback\n",
            "/usr/local/lib/python3.10/dist-packages/rasa/api.py:144: RuntimeWarning: coroutine 'test_nlu' was never awaited\n",
            "  test_nlu(model, nlu_data, output, additional_arguments)  # type: ignore[unused-coroutine] # noqa: E501\n",
            "RuntimeWarning: Enable tracemalloc to get the object allocation traceback\n"
          ]
        }
      ],
      "source": [
        "\n",
        "import rasa.shared.data as data\n",
        "nlu_data_directory = data.get_nlu_directory(training_files)\n",
        "stories_directory = data.get_core_directory(training_files)\n",
        "print(stories_directory, nlu_data_directory)\n",
        "rasa.test(model_path, stories_directory, nlu_data_directory)\n",
        "print(\"Done testing.\")\n"
      ]
    }
  ],
  "metadata": {
    "accelerator": "GPU",
    "colab": {
      "gpuType": "T4",
      "provenance": []
    },
    "kernelspec": {
      "display_name": "Python 3",
      "name": "python3"
    }
  },
  "nbformat": 4,
  "nbformat_minor": 0
}